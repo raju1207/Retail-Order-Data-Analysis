{
  "nbformat": 4,
  "nbformat_minor": 0,
  "metadata": {
    "colab": {
      "provenance": [],
      "authorship_tag": "ABX9TyPSwagsfFVKEHhoDH37ht8i",
      "include_colab_link": true
    },
    "kernelspec": {
      "name": "python3",
      "display_name": "Python 3"
    },
    "language_info": {
      "name": "python"
    }
  },
  "cells": [
    {
      "cell_type": "markdown",
      "metadata": {
        "id": "view-in-github",
        "colab_type": "text"
      },
      "source": [
        "<a href=\"https://colab.research.google.com/github/raju1207/Retail-Order-Data-Analysis/blob/main/Retail_Order_Data_Analysis.ipynb\" target=\"_parent\"><img src=\"https://colab.research.google.com/assets/colab-badge.svg\" alt=\"Open In Colab\"/></a>"
      ]
    },
    {
      "cell_type": "code",
      "source": [
        "pip install kaggle"
      ],
      "metadata": {
        "colab": {
          "base_uri": "https://localhost:8080/"
        },
        "id": "QyINMPutaWDr",
        "outputId": "a42d8b17-bb4f-4ec3-8620-48828580569b"
      },
      "execution_count": 1,
      "outputs": [
        {
          "output_type": "stream",
          "name": "stdout",
          "text": [
            "Requirement already satisfied: kaggle in /usr/local/lib/python3.10/dist-packages (1.6.17)\n",
            "Requirement already satisfied: six>=1.10 in /usr/local/lib/python3.10/dist-packages (from kaggle) (1.16.0)\n",
            "Requirement already satisfied: certifi>=2023.7.22 in /usr/local/lib/python3.10/dist-packages (from kaggle) (2024.8.30)\n",
            "Requirement already satisfied: python-dateutil in /usr/local/lib/python3.10/dist-packages (from kaggle) (2.8.2)\n",
            "Requirement already satisfied: requests in /usr/local/lib/python3.10/dist-packages (from kaggle) (2.32.3)\n",
            "Requirement already satisfied: tqdm in /usr/local/lib/python3.10/dist-packages (from kaggle) (4.66.6)\n",
            "Requirement already satisfied: python-slugify in /usr/local/lib/python3.10/dist-packages (from kaggle) (8.0.4)\n",
            "Requirement already satisfied: urllib3 in /usr/local/lib/python3.10/dist-packages (from kaggle) (2.2.3)\n",
            "Requirement already satisfied: bleach in /usr/local/lib/python3.10/dist-packages (from kaggle) (6.2.0)\n",
            "Requirement already satisfied: webencodings in /usr/local/lib/python3.10/dist-packages (from bleach->kaggle) (0.5.1)\n",
            "Requirement already satisfied: text-unidecode>=1.3 in /usr/local/lib/python3.10/dist-packages (from python-slugify->kaggle) (1.3)\n",
            "Requirement already satisfied: charset-normalizer<4,>=2 in /usr/local/lib/python3.10/dist-packages (from requests->kaggle) (3.4.0)\n",
            "Requirement already satisfied: idna<4,>=2.5 in /usr/local/lib/python3.10/dist-packages (from requests->kaggle) (3.10)\n"
          ]
        }
      ]
    },
    {
      "cell_type": "code",
      "source": [
        "import zipfile\n",
        "import pandas as pd\n",
        "\n",
        "# Path to the uploaded ZIP file\n",
        "zip_path = ('/content/archive (22).zip')\n",
        "\n",
        "# Open the ZIP file\n",
        "with zipfile.ZipFile('/content/archive (22).zip', 'r') as z:\n",
        "    # List all files in the ZIP\n",
        "    print(\"Files in ZIP:\", z.namelist())\n",
        "\n",
        "    # Extract the desired CSV file\n",
        "    csv_filename = 'orders.csv'\n",
        "    with z.open(csv_filename) as f:\n",
        "\n",
        "        df = pd.read_csv(f)\n",
        "\n",
        "print(df.head())\n"
      ],
      "metadata": {
        "colab": {
          "base_uri": "https://localhost:8080/"
        },
        "id": "y97Qrpplah7L",
        "outputId": "79576554-4325-4fab-f192-f7d604706b60"
      },
      "execution_count": 3,
      "outputs": [
        {
          "output_type": "stream",
          "name": "stdout",
          "text": [
            "Files in ZIP: ['orders.csv']\n",
            "   Order Id  Order Date       Ship Mode    Segment        Country  \\\n",
            "0         1  2023-03-01    Second Class   Consumer  United States   \n",
            "1         2  2023-08-15    Second Class   Consumer  United States   \n",
            "2         3  2023-01-10    Second Class  Corporate  United States   \n",
            "3         4  2022-06-18  Standard Class   Consumer  United States   \n",
            "4         5  2022-07-13  Standard Class   Consumer  United States   \n",
            "\n",
            "              City       State  Postal Code Region         Category  \\\n",
            "0        Henderson    Kentucky        42420  South        Furniture   \n",
            "1        Henderson    Kentucky        42420  South        Furniture   \n",
            "2      Los Angeles  California        90036   West  Office Supplies   \n",
            "3  Fort Lauderdale     Florida        33311  South        Furniture   \n",
            "4  Fort Lauderdale     Florida        33311  South  Office Supplies   \n",
            "\n",
            "  Sub Category       Product Id  cost price  List Price  Quantity  \\\n",
            "0    Bookcases  FUR-BO-10001798         240         260         2   \n",
            "1       Chairs  FUR-CH-10000454         600         730         3   \n",
            "2       Labels  OFF-LA-10000240          10          10         2   \n",
            "3       Tables  FUR-TA-10000577         780         960         5   \n",
            "4      Storage  OFF-ST-10000760          20          20         2   \n",
            "\n",
            "   Discount Percent  \n",
            "0                 2  \n",
            "1                 3  \n",
            "2                 5  \n",
            "3                 2  \n",
            "4                 5  \n"
          ]
        }
      ]
    },
    {
      "cell_type": "code",
      "source": [
        "df.info()"
      ],
      "metadata": {
        "colab": {
          "base_uri": "https://localhost:8080/"
        },
        "id": "5gYPEXAjahsh",
        "outputId": "bb49fbb2-7963-48aa-85f7-8bf253e29571"
      },
      "execution_count": 4,
      "outputs": [
        {
          "output_type": "stream",
          "name": "stdout",
          "text": [
            "<class 'pandas.core.frame.DataFrame'>\n",
            "RangeIndex: 9994 entries, 0 to 9993\n",
            "Data columns (total 16 columns):\n",
            " #   Column            Non-Null Count  Dtype \n",
            "---  ------            --------------  ----- \n",
            " 0   Order Id          9994 non-null   int64 \n",
            " 1   Order Date        9994 non-null   object\n",
            " 2   Ship Mode         9993 non-null   object\n",
            " 3   Segment           9994 non-null   object\n",
            " 4   Country           9994 non-null   object\n",
            " 5   City              9994 non-null   object\n",
            " 6   State             9994 non-null   object\n",
            " 7   Postal Code       9994 non-null   int64 \n",
            " 8   Region            9994 non-null   object\n",
            " 9   Category          9994 non-null   object\n",
            " 10  Sub Category      9994 non-null   object\n",
            " 11  Product Id        9994 non-null   object\n",
            " 12  cost price        9994 non-null   int64 \n",
            " 13  List Price        9994 non-null   int64 \n",
            " 14  Quantity          9994 non-null   int64 \n",
            " 15  Discount Percent  9994 non-null   int64 \n",
            "dtypes: int64(6), object(10)\n",
            "memory usage: 1.2+ MB\n"
          ]
        }
      ]
    },
    {
      "cell_type": "code",
      "source": [
        "df.columns"
      ],
      "metadata": {
        "colab": {
          "base_uri": "https://localhost:8080/"
        },
        "id": "49DV03qHdqZQ",
        "outputId": "5f283eed-1a21-40d3-b8d2-289f5819fdec"
      },
      "execution_count": 6,
      "outputs": [
        {
          "output_type": "execute_result",
          "data": {
            "text/plain": [
              "Index(['Order Id', 'Order Date', 'Ship Mode', 'Segment', 'Country', 'City',\n",
              "       'State', 'Postal Code', 'Region', 'Category', 'Sub Category',\n",
              "       'Product Id', 'cost price', 'List Price', 'Quantity',\n",
              "       'Discount Percent'],\n",
              "      dtype='object')"
            ]
          },
          "metadata": {},
          "execution_count": 6
        }
      ]
    },
    {
      "cell_type": "code",
      "source": [],
      "metadata": {
        "id": "DiN7VueCeCW5"
      },
      "execution_count": null,
      "outputs": []
    }
  ]
}